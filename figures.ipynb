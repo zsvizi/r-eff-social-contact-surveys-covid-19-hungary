{
 "cells": [
  {
   "cell_type": "code",
   "execution_count": 23,
   "metadata": {},
   "outputs": [],
   "source": [
    "from main import Simulation"
   ]
  },
  {
   "cell_type": "code",
   "execution_count": 24,
   "metadata": {
    "pycharm": {
     "name": "#%%\n"
    }
   },
   "outputs": [
    {
     "name": "stderr",
     "output_type": "stream",
     "text": [
      "/home/zsvizi/workspace/social-mixing-covid19-hungary/dataloader.py:72: ParserWarning: Falling back to the 'python' engine because the 'c' engine does not support regex separators (separators > 1 char and different from '\\s+' are interpreted as regex); you can avoid this warning by specifying engine='python'.\n",
      "  data = pd.read_csv(self._contact_data_file, delimiter=',|:',\n",
      "/home/zsvizi/workspace/social-mixing-covid19-hungary/dataloader.py:85: ParserWarning: Falling back to the 'python' engine because the 'c' engine does not support regex separators (separators > 1 char and different from '\\s+' are interpreted as regex); you can avoid this warning by specifying engine='python'.\n",
      "  data = pd.read_csv(self._reference_contact_file, delimiter=',|:',\n",
      "/home/zsvizi/workspace/social-mixing-covid19-hungary/dataloader.py:97: ParserWarning: Falling back to the 'python' engine because the 'c' engine does not support regex separators (separators > 1 char and different from '\\s+' are interpreted as regex); you can avoid this warning by specifying engine='python'.\n",
      "  data = pd.read_csv(self._contact_num_data_file,\n",
      "/home/zsvizi/workspace/social-mixing-covid19-hungary/dataloader.py:91: ParserWarning: Falling back to the 'python' engine because the 'c' engine does not support regex separators (separators > 1 char and different from '\\s+' are interpreted as regex); you can avoid this warning by specifying engine='python'.\n",
      "  data = pd.read_csv(self._representative_contact_file, delimiter=',|:',\n"
     ]
    }
   ],
   "source": [
    "sim = Simulation()"
   ]
  },
  {
   "cell_type": "code",
   "execution_count": 25,
   "outputs": [
    {
     "data": {
      "text/plain": "False"
     },
     "execution_count": 25,
     "metadata": {},
     "output_type": "execute_result"
    }
   ],
   "source": [
    "# is_r_eff_calc:\n",
    "# if True, then effective R is calculated, else R_0 is calculated\n",
    "sim.is_r_eff_calc"
   ],
   "metadata": {
    "collapsed": false,
    "pycharm": {
     "name": "#%%\n"
    }
   }
  },
  {
   "cell_type": "code",
   "execution_count": 26,
   "metadata": {
    "pycharm": {
     "name": "#%%\n"
    }
   },
   "outputs": [],
   "source": [
    "# Call simulate() method to get r_eff values for the contact matrices\n",
    "sim.simulate()"
   ]
  },
  {
   "cell_type": "code",
   "execution_count": 27,
   "outputs": [
    {
     "data": {
      "text/plain": "(2181,)"
     },
     "execution_count": 27,
     "metadata": {},
     "output_type": "execute_result"
    }
   ],
   "source": [
    "# r_eff_plot contains 1 + number_of_days * bin_size elements\n",
    "# r_eff_plot[0] is calculated from contact_matrix/results/online_reference.csv\n",
    "sim.r_eff_plot.shape"
   ],
   "metadata": {
    "collapsed": false,
    "pycharm": {
     "name": "#%%\n"
    }
   }
  },
  {
   "cell_type": "code",
   "execution_count": 28,
   "outputs": [
    {
     "data": {
      "text/plain": "array([1.08602453, 1.08602453, 1.08602453, 1.08602453, 1.08602453,\n       1.08602453, 1.08602453, 1.08602453, 1.08602453])"
     },
     "execution_count": 28,
     "metadata": {},
     "output_type": "execute_result"
    }
   ],
   "source": [
    "# If r_eff_calc is False, then for the kth day (k!=0), there are `bin_size` EQUAL numbers\n",
    "# r_eff_plot[0] appears once\n",
    "# E.g. for k=10\n",
    "k = 10\n",
    "sim.r_eff_plot[1 + k * sim.bin_size:(k+1) * sim.bin_size]"
   ],
   "metadata": {
    "collapsed": false,
    "pycharm": {
     "name": "#%%\n"
    }
   }
  },
  {
   "cell_type": "code",
   "execution_count": 29,
   "outputs": [
    {
     "data": {
      "text/plain": "(219,)"
     },
     "execution_count": 29,
     "metadata": {},
     "output_type": "execute_result"
    }
   ],
   "source": [
    "# For r_eff_calc = False, you can filter for unique values\n",
    "daily_r_eff = sim.r_eff_plot[::sim.bin_size]\n",
    "daily_r_eff.shape"
   ],
   "metadata": {
    "collapsed": false,
    "pycharm": {
     "name": "#%%\n"
    }
   }
  },
  {
   "cell_type": "code",
   "execution_count": 32,
   "outputs": [
    {
     "name": "stdout",
     "output_type": "stream",
     "text": [
      "-------- Representative matrices --------\n",
      "Baseline beta: 0.12736156303151233\n",
      "For matrix BASELINE eig. val = 17.2736573549719 -> baseline r0 = 2.2\n",
      "-----------------------------------------\n",
      "For matrix reference eig. val = 57.63074862280115 -> r0 = 7.3399422232761315\n",
      "For matrix 04_2020 eig. val = 10.283749564221493 -> r0 = 1.3097544183238832\n",
      "For matrix 05_2020 eig. val = 10.207891616336124 -> r0 = 1.3000930315128394\n",
      "For matrix 06_2020 eig. val = 11.568319131809496 -> r0 = 1.473359206274605\n",
      "For matrix 08_2020 eig. val = 12.475132761834743 -> r0 = 1.5888524075729002\n",
      "For matrix 09_2020 eig. val = 17.012010113814355 -> r0 = 2.1666761984032923\n",
      "For matrix 10_2020 eig. val = 20.379641518905828 -> r0 = 2.59558299786975\n",
      "For matrix 11_2020 eig. val = 10.304569611004855 -> r0 = 1.3124060920246012\n",
      "For matrix 12_2020 eig. val = 13.371338953128284 -> r0 = 1.702994628894564\n"
     ]
    },
    {
     "data": {
      "text/plain": "[7.3399422232761315,\n 1.3097544183238832,\n 1.3000930315128394,\n 1.473359206274605,\n 1.473359206274605,\n 1.5888524075729002,\n 2.1666761984032923,\n 2.59558299786975,\n 1.3124060920246012,\n 1.702994628894564]"
     },
     "execution_count": 32,
     "metadata": {},
     "output_type": "execute_result"
    }
   ],
   "source": [
    "# Call get_repi_r0_list() to get r_eff values (here is_r_eff_calc is set to False)\n",
    "# This method fills the member variable repi_r0_list\n",
    "sim.get_repi_r0_list()\n",
    "sim.repi_r0_list"
   ],
   "metadata": {
    "collapsed": false,
    "pycharm": {
     "name": "#%%\n"
    }
   }
  },
  {
   "cell_type": "code",
   "execution_count": null,
   "outputs": [],
   "source": [],
   "metadata": {
    "collapsed": false,
    "pycharm": {
     "name": "#%%\n"
    }
   }
  }
 ],
 "metadata": {
  "kernelspec": {
   "display_name": "Python 3",
   "language": "python",
   "name": "python3"
  },
  "language_info": {
   "codemirror_mode": {
    "name": "ipython",
    "version": 3
   },
   "file_extension": ".py",
   "mimetype": "text/x-python",
   "name": "python",
   "nbconvert_exporter": "python",
   "pygments_lexer": "ipython3",
   "version": "3.8.5"
  }
 },
 "nbformat": 4,
 "nbformat_minor": 1
}