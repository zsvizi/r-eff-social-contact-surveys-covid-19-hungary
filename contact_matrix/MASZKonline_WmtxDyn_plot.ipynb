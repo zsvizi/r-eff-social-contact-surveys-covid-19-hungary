{
 "cells": [
  {
   "cell_type": "code",
   "execution_count": 1,
   "metadata": {},
   "outputs": [],
   "source": [
    "import csv\n",
    "import datetime\n",
    "import numpy as np\n",
    "import os\n",
    "import matplotlib.pyplot as plt\n",
    "from matplotlib.colors import LogNorm"
   ]
  },
  {
   "cell_type": "code",
   "execution_count": 2,
   "metadata": {},
   "outputs": [],
   "source": [
    "def FlatMtxRead(fmtxFN,firstMtx=-1,mtxNum=-1,verb=0):\n",
    "    lnCnt=0\n",
    "    mtxTimeDict={}    \n",
    "    fmtxIn=open(fmtxFN,\"r\")\n",
    "    for line in fmtxIn:\n",
    "        if firstMtx!=-1 and lnCnt<firstMtx:\n",
    "            lnCnt+=1\n",
    "            continue\n",
    "        data=list(map(str,line.split(\":\")))\n",
    "        timeBeg=int(data[0].split(\"-\")[0])\n",
    "        timeEnd=int(data[0].split(\"-\")[1])\n",
    "        fmtx=list(map(float,data[1].split(\",\")))\n",
    "        mtx = np.reshape(fmtx, (8, 8))\n",
    "        np.shape(mtx)\n",
    "        mtxTimeDict[(timeBeg,timeEnd)]=mtx\n",
    "    fmtxIn.close()\n",
    "    return mtxTimeDict\n",
    "\n",
    "def WeightDistrRead(wdFN,firstMtx=-1,mtxNum=-1,verb=0):\n",
    "    lnCnt=0\n",
    "    wdTimeDict={}    \n",
    "    fWDIn=open(wdFN,\"r\")\n",
    "    for line in fWDIn:\n",
    "        if firstMtx!=-1 and lnCnt<firstMtx:\n",
    "            lnCnt+=1\n",
    "            continue\n",
    "        data=list(map(str,line.split(\":\")))\n",
    "        timeBeg=int(data[0].split(\"-\")[0])\n",
    "        timeEnd=int(data[0].split(\"-\")[1])\n",
    "        wd=list(map(float,data[1].split(\",\")))\n",
    "        wdTimeDict[(timeBeg,timeEnd)]=wd        \n",
    "    fWDIn.close()        \n",
    "    return wdTimeDict\n",
    "\n",
    "def WeightNorm(mtxTimeDict,wdTimeDict,verb=0):\n",
    "    wmtxTimeDict={}\n",
    "    for tper in mtxTimeDict:    \n",
    "        mtxWN=np.copy(mtxTimeDict[tper])\n",
    "        wd=np.copy(wdTimeDict[tper])\n",
    "        for i in range(len(mtxWN)):\n",
    "            for j in range(len(wd)):\n",
    "                if wd[j]>0.:\n",
    "                    mtxWN[i][j]=mtxWN[i][j]/wd[j]\n",
    "        wmtxTimeDict[tper]=mtxWN\n",
    "    return wmtxTimeDict\n",
    "\n",
    "def Epoch2datetime(epoch):\n",
    "    dt = datetime.datetime.fromtimestamp(epoch).strftime('%Y-%m-%dT%H:%M:%SZ')\n",
    "    return dt\n",
    "\n",
    "def PlotCtMtx(mtx,fnOut=-1,ftitle=\"Reference weekday - AgeNorm\",blabel=\"No. of contacts/head\",cm=\"Blues\",cmin=-1,cmax=-1,lognorm=-1):\n",
    "    \n",
    "    plt.rcParams.update({'font.size': 18})\n",
    "    plt.figure(figsize=(8,8))\n",
    "    cmp=\"\"\n",
    "    if cm==\"Oranges\":cmp=plt.cm.Oranges\n",
    "    elif cm==\"Blacks\":cmp=plt.cm.gray_r\n",
    "    elif cm==\"Blues\":cmp=plt.cm.Blues\n",
    "    elif cm==\"Reds\":cmp=plt.cm.Reds\n",
    "    elif cm==\"Greens\":cmp=plt.cm.Greens\n",
    "    else:cm=plt.cm.rainbow\n",
    "    \n",
    "    if cmin==1:\n",
    "        cmin=np.amin(mtx[mtx!=0.])\n",
    "    elif cmin==-1:\n",
    "        cmin=np.amin(mtx)\n",
    "    \n",
    "    if cmax==-1:\n",
    "        cmax=mtx.max()\n",
    "    \n",
    "    if lognorm==-1:\n",
    "        plt.matshow(mtx, cmap=cmp,origin=\"lower\",fignum=1)\n",
    "    else:\n",
    "        plt.matshow(mtx, cmap=cmp,norm=LogNorm(),origin=\"lower\",fignum=1)\n",
    "    plt.title(ftitle)\n",
    "    plt.clim(cmin,cmax)\n",
    "    plt.colorbar(fraction=0.046, pad=0.04,label=blabel)\n",
    "    plt.gca().xaxis.tick_bottom()\n",
    "    plt.xticks([0,1,2,3,4,5,6,7],[\"0-4\",\"5-14\",\"15-29\",\"30-44\",\"45-59\",\"60-69\",\"70-79\",\"80+\"],rotation=45)\n",
    "    plt.yticks([0,1,2,3,4,5,6,7],[\"0-4\",\"5-14\",\"15-29\",\"30-44\",\"45-59\",\"60-69\",\"70-79\",\"80+\"])\n",
    "    plt.xlabel(\"ego age\")\n",
    "    plt.ylabel(\"contact age\")\n",
    "    if fnOut!=-1:\n",
    "        plt.savefig(fnOut,bbox_inches='tight')        "
   ]
  },
  {
   "cell_type": "markdown",
   "metadata": {},
   "source": [
    "# Time period selection"
   ]
  },
  {
   "cell_type": "code",
   "execution_count": 3,
   "metadata": {},
   "outputs": [],
   "source": [
    "wds=7  # window size\n",
    "wsh=1  # window shift\n",
    "periodIdx=11  # period index to plot (0...number of periods generated-1)"
   ]
  },
  {
   "cell_type": "code",
   "execution_count": 5,
   "metadata": {},
   "outputs": [
    {
     "name": "stdout",
     "output_type": "stream",
     "text": [
      "./results/ActKAFMtxDyn_t_fmtx8x8_wds7_wsh1.csv\n",
      "Index:  0  time period:  2020-03-24 -- 2020-03-31  in epoch:  1585087200 -- 1585691999\n",
      "Index:  1  time period:  2020-03-25 -- 2020-04-01  in epoch:  1585173600 -- 1585778399\n",
      "Index:  2  time period:  2020-03-26 -- 2020-04-02  in epoch:  1585260000 -- 1585864799\n",
      "Index:  3  time period:  2020-03-27 -- 2020-04-03  in epoch:  1585346400 -- 1585951199\n",
      "Index:  4  time period:  2020-03-28 -- 2020-04-04  in epoch:  1585432800 -- 1586037599\n",
      "Index:  5  time period:  2020-03-30 -- 2020-04-05  in epoch:  1585519200 -- 1586123999\n",
      "Index:  6  time period:  2020-03-31 -- 2020-04-06  in epoch:  1585605600 -- 1586210399\n",
      "Index:  7  time period:  2020-04-01 -- 2020-04-07  in epoch:  1585692000 -- 1586296799\n",
      "Index:  8  time period:  2020-04-02 -- 2020-04-08  in epoch:  1585778400 -- 1586383199\n",
      "Index:  9  time period:  2020-04-03 -- 2020-04-09  in epoch:  1585864800 -- 1586469599\n",
      "Index:  10  time period:  2020-04-04 -- 2020-04-10  in epoch:  1585951200 -- 1586555999\n",
      "Index:  11  time period:  2020-04-05 -- 2020-04-11  in epoch:  1586037600 -- 1586642399\n",
      "Index:  12  time period:  2020-04-06 -- 2020-04-12  in epoch:  1586124000 -- 1586728799\n",
      "Index:  13  time period:  2020-04-07 -- 2020-04-13  in epoch:  1586210400 -- 1586815199\n"
     ]
    }
   ],
   "source": [
    "fActMtxFN=\"./results/ActKAFMtxDyn_t_fmtx8x8_wds\"+str(wds)+\"_wsh\"+str(wsh)+\".csv\"\n",
    "print(fActMtxFN)\n",
    "mtxTimeDict=FlatMtxRead(fmtxFN=fActMtxFN,firstMtx=-1,mtxNum=-1,verb=0)\n",
    "tIdxDict={}\n",
    "perCnt=0\n",
    "for tper in mtxTimeDict:\n",
    "    tIdxDict[perCnt]=tper\n",
    "    print(\"Index: \",perCnt,\" time period: \",Epoch2datetime(tper[0])[:10],\"--\",Epoch2datetime(tper[1])[:10], \" in epoch: \",tper[0],\"--\",tper[1])\n",
    "    perCnt+=1"
   ]
  },
  {
   "cell_type": "markdown",
   "metadata": {},
   "source": [
    "# Adult actual proxy matrix - read and plot"
   ]
  },
  {
   "cell_type": "code",
   "execution_count": 6,
   "metadata": {},
   "outputs": [],
   "source": [
    "fActKAFMtxFN=\"./results/ActKAFMtxDyn_t_fmtx8x8_wds\"+str(wds)+\"_wsh\"+str(wsh)+\".csv\"\n",
    "mtxKAFTimeDict=FlatMtxRead(fmtxFN=fActKAFMtxFN,firstMtx=-1,mtxNum=-1,verb=0)"
   ]
  },
  {
   "cell_type": "code",
   "execution_count": 7,
   "metadata": {},
   "outputs": [
    {
     "data": {
      "text/plain": "<Figure size 576x576 with 2 Axes>",
      "image/png": "[encoded data removed]"
     },
     "metadata": {
      "needs_background": "light"
     },
     "output_type": "display_data"
    }
   ],
   "source": [
    "blabel=\"No. of contacts/head\"\n",
    "cmap=\"Blues\"\n",
    "\n",
    "tper=tIdxDict[periodIdx]\n",
    "\n",
    "mtx=mtxKAFTimeDict[tper]\n",
    "ftitle=\"Adults \"+str(Epoch2datetime(tper[0])[:10])+\" -- \"+str(Epoch2datetime(tper[1])[:10])\n",
    "if mtx.min()==0:\n",
    "    PlotCtMtx(mtx,fnOut=-1,ftitle=ftitle,blabel=blabel,cm=cmap,cmin=1,lognorm=1)\n",
    "else:\n",
    "    PlotCtMtx(mtx,fnOut=-1,ftitle=ftitle,blabel=blabel,cm=cmap,cmin=-1,lognorm=1)"
   ]
  },
  {
   "cell_type": "code",
   "execution_count": null,
   "metadata": {},
   "outputs": [],
   "source": []
  }
 ],
 "metadata": {
  "kernelspec": {
   "display_name": "Python 3",
   "language": "python",
   "name": "python3"
  },
  "language_info": {
   "codemirror_mode": {
    "name": "ipython",
    "version": 3
   },
   "file_extension": ".py",
   "mimetype": "text/x-python",
   "name": "python",
   "nbconvert_exporter": "python",
   "pygments_lexer": "ipython3",
   "version": "3.8.3"
  }
 },
 "nbformat": 4,
 "nbformat_minor": 4
}