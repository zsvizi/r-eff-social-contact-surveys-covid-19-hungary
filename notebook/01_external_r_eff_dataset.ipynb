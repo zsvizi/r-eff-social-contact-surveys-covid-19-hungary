{
 "cells": [
  {
   "cell_type": "markdown",
   "metadata": {},
   "source": [
    "This notebook uses corrected $R_{eff}$ estimation data from Tamas Ferenci, and combines it with latest Hungarian data\n",
    "about number of confirmed cases and test positivity downloaded directly from the webpage of Tamas Ferenci\n",
    "(which is downloaded from the Johns Hopkins dashboard)."
   ]
  },
  {
   "cell_type": "code",
   "execution_count": null,
   "metadata": {},
   "outputs": [],
   "source": [
    "from datetime import datetime, timedelta\n",
    "import os\n",
    "import sys\n",
    "\n",
    "import pandas as pd\n",
    "import matplotlib.pyplot as plt\n",
    "\n",
    "sys.path.append(\"../\")\n",
    "from src.dataloader import PROJECT_PATH"
   ]
  },
  {
   "cell_type": "code",
   "execution_count": null,
   "metadata": {},
   "outputs": [],
   "source": [
    "plt.rcParams[\"font.size\"] = 18"
   ]
  },
  {
   "cell_type": "code",
   "execution_count": null,
   "metadata": {},
   "outputs": [],
   "source": [
    "# reading r_eff estimation data from Tamas Ferenci\n",
    "# institutional and imported cases are excluded in Spring and Summer 2020\n",
    "# source: e-mailed by the author\n",
    "\n",
    "ferenci_corrected = pd.read_csv(\n",
    "    os.path.join(PROJECT_PATH, 'data/r_eff_estimations.csv'),\n",
    "    sep=\";\",\n",
    "    header=None,\n",
    "    index_col=0\n",
    ")\n",
    "\n",
    "ferenci_corrected[\"date\"] = ferenci_corrected[4]\\\n",
    "    .map(lambda i: (datetime(2020,3,3)+timedelta(days=i)).strftime('%Y-%m-%d'))\n",
    "ferenci_corrected[\"r_eff\"] = ferenci_corrected[1].map(lambda s: float(s.replace(',','.')))\n",
    "ferenci_corrected[\"ci_lower\"] = ferenci_corrected[2].map(lambda s: float(s.replace(',','.')))\n",
    "ferenci_corrected[\"ci_upper\"] = ferenci_corrected[3].map(lambda s: float(s.replace(',','.')))\n",
    "ferenci_corrected[\"method\"] = ferenci_corrected[5]\n",
    "ferenci_corrected.drop([1,2,3,4,5],axis=1,inplace=True)\n",
    "\n",
    "ferenci_corrected.head()"
   ]
  },
  {
   "cell_type": "code",
   "execution_count": null,
   "metadata": {},
   "outputs": [],
   "source": [
    "# latest estimations downloaded directly from the webpage of Tamas Ferenci\n",
    "# has to be downloaded by hand...\n",
    "# https://research.physcon.uni-obuda.hu/COVID19MagyarEpi/\n",
    "# Ctrl+C / Ctrl + V whole table from the \"Reprodukcios szam becslese\" ful > data/ferenci_r_eff.csv"
   ]
  },
  {
   "cell_type": "code",
   "execution_count": null,
   "metadata": {},
   "outputs": [],
   "source": [
    "ferenci = pd.read_csv(os.path.join(PROJECT_PATH, 'data/ferenci_r_eff.csv'),\n",
    "                      sep=\"\\t\",header=None)\n",
    "ferenci.columns = [\"method\",\"date\",\"junk\"]\n",
    "ferenci[\"junk\"] = ferenci[\"junk\"].map(lambda s: s.replace(\"(\",\" \").replace(\")\",\" \").replace(\"-\",\" \"))\n",
    "ferenci[\"r_eff\"] = ferenci[\"junk\"].map(lambda s: float(s.split(\" \")[0]))\n",
    "ferenci[\"ci_lower\"] = ferenci[\"junk\"].map(lambda s: float(s.split(\" \")[2]))\n",
    "ferenci[\"ci_upper\"] = ferenci[\"junk\"].map(lambda s: float(s.split(\" \")[3]))\n",
    "ferenci[\"date\"] = ferenci[\"date\"].map(lambda d: datetime.strptime(d,\"%m/%d/%Y\").strftime(\"%Y-%m-%d\"))\n",
    "ferenci.drop([\"junk\"],axis=1,inplace=True)"
   ]
  },
  {
   "cell_type": "code",
   "execution_count": null,
   "metadata": {},
   "outputs": [],
   "source": [
    "temp = []\n",
    "for m in ferenci_corrected[\"method\"].unique():\n",
    "    df1 = ferenci_corrected[ferenci_corrected[\"method\"]==m]\n",
    "    df2 = ferenci[ferenci[\"method\"]==m]\n",
    "    temp.extend([df1,df2[df2[\"date\"]>df1[\"date\"].max()]])"
   ]
  },
  {
   "cell_type": "code",
   "execution_count": null,
   "metadata": {},
   "outputs": [],
   "source": [
    "data = pd.concat(temp)"
   ]
  },
  {
   "cell_type": "code",
   "execution_count": null,
   "metadata": {},
   "outputs": [],
   "source": [
    "# number of cases and test positivity downloaded directly from the webpage of Tamas Ferenci\n",
    "file_path = 'https://research.physcon.uni-obuda.hu/COVID19MagyarEpi/session/' + \\\n",
    "            'fe81b58c8fa141a13cc35b7c868a15c0/download/testpositivityTabDlCSV?w='\n",
    "casenum = pd.read_csv(file_path, sep=\";\")\n",
    "casenum[\"pos\"] = casenum[\"Tesztpozitivitás [%]\"].map(lambda s: float(str(s).replace(\",\", \".\")))\n",
    "casenum[\"date\"] = casenum[\"Dátum\"]\n",
    "\n",
    "# joining case number and test positivity to the previous results\n",
    "data[\"pos\"] = data[\"date\"].map(dict(zip(casenum[\"date\"].map(str), casenum[\"pos\"])))\n",
    "data[\"casenum\"] = data[\"date\"].map(dict(zip(casenum[\"date\"].map(str), casenum[\"Napi esetszám [fő/nap]\"])))"
   ]
  },
  {
   "cell_type": "code",
   "execution_count": null,
   "metadata": {},
   "outputs": [],
   "source": [
    "# test view\n",
    "data"
   ]
  },
  {
   "cell_type": "code",
   "execution_count": null,
   "metadata": {},
   "outputs": [],
   "source": [
    "# exporting to csv\n",
    "data.to_csv(\n",
    "    os.path.join(PROJECT_PATH, 'data/reference_r_eff.csv'))"
   ]
  },
  {
   "cell_type": "code",
   "execution_count": null,
   "metadata": {},
   "outputs": [],
   "source": [
    "# test figure\n",
    "plt.figure(figsize=(20,10))\n",
    "plt.plot(data[data[\"method\"]==\"Cori\"][\"date\"].map(\n",
    "    lambda d: datetime.strptime(d,\"%Y-%m-%d\")),data[data[\"method\"]==\"Cori\"][\"r_eff\"])\n",
    "plt.grid()"
   ]
  }
 ],
 "metadata": {
  "kernelspec": {
   "display_name": "Python 3",
   "language": "python",
   "name": "python3"
  },
  "language_info": {
   "codemirror_mode": {
    "name": "ipython",
    "version": 3
   },
   "file_extension": ".py",
   "mimetype": "text/x-python",
   "name": "python",
   "nbconvert_exporter": "python",
   "pygments_lexer": "ipython3",
   "version": "3.8.10"
  }
 },
 "nbformat": 4,
 "nbformat_minor": 2
}