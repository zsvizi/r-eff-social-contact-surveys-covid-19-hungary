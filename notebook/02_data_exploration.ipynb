{
 "cells": [
  {
   "cell_type": "markdown",
   "metadata": {},
   "source": [
    "This notebook contains first descriptive plots to get the intuition about the inputs to the simulation.\n",
    "\n",
    "The structure is the following:\n",
    "* reference matrices\n",
    "* mask wearing data (total, per age group)\n",
    "* average contact numbers (total, per age group)"
   ]
  },
  {
   "cell_type": "code",
   "execution_count": null,
   "metadata": {},
   "outputs": [],
   "source": [
    "import cycler\n",
    "from datetime import datetime, timedelta\n",
    "import json\n",
    "import os\n",
    "import sys\n",
    "from warnings import filterwarnings\n",
    "\n",
    "# from matplotlib.colors import LogNorm\n",
    "import json\n",
    "import matplotlib.ticker as mtick\n",
    "import matplotlib.pyplot as plt\n",
    "import numpy as np\n",
    "import pandas as pd\n",
    "\n",
    "sys.path.append(\"../\")\n",
    "from src.dataloader import PROJECT_PATH\n",
    "from src.simulation import Simulation\n",
    "\n",
    "from IPython.core.display import display, HTML\n",
    "display(HTML(\"<style>.container { width:90% !important; }</style>\"))\n",
    "\n",
    "filterwarnings('default')\n",
    "def_cycler = plt.rcParams['axes.prop_cycle']\n",
    "os.makedirs(os.path.join(PROJECT_PATH, \"plots\"), exist_ok=True)\n",
    "%matplotlib inline"
   ]
  },
  {
   "cell_type": "code",
   "execution_count": null,
   "metadata": {},
   "outputs": [],
   "source": [
    "plt.rcParams[\"font.size\"] = 18\n",
    "plt.rcParams[\"figure.facecolor\"] = \"white\""
   ]
  },
  {
   "cell_type": "markdown",
   "metadata": {},
   "source": [
    "# Different reference matrix options"
   ]
  },
  {
   "cell_type": "markdown",
   "metadata": {},
   "source": [
    "## Online reference matrix"
   ]
  },
  {
   "cell_type": "markdown",
   "metadata": {},
   "source": [
    "In this version, we estimate reference proxy contact numbers before COVID from the responses of the online survey\n",
    "referring to the reference period ($OR$ - online reference proxy). We use responses of users from mid-April until\n",
    "the end of June (`2020/04/14-2020/06/30`), because people tend to underestimate their reference proxy contacts\n",
    "as pre-COVID times are getting further.\n",
    "\n",
    "Unfortunately, we don't have online reference proxy contact numbers for children ($OR_{k}$ -\n",
    "online reference proxy kids), and the representative proxy contact numbers ($RR$ - representative reference proxy)\n",
    "are consistently higher than in the online survey (so we cannot automatically fill the missing children columns from\n",
    "the representative survey).\n",
    "\n",
    "Therefore, we try to infer online reference kid proxy contacts ($OR_{k}$) by multiplying their September online actual\n",
    "proxy contacts ($OA_{k}$ - online actual proxy kids) with the fraction of the representative reference proxy ($RR_{k}$\n",
    "- representative reference proxy kids) and representative actual proxy contacts ($RA_{k}$ -\n",
    "representative actual proxy kids). We use September data for the online actual kid proxy contacts,\n",
    "because schools were open.\n",
    "Maybe instead of the above text, this equation is somewhat more readable, for every matrix element for kids:\n",
    "\n",
    "$$OR_{k} = OA_{k,\\ \\mathrm{Sept}}\\frac{RR_{k,\\ \\mathrm{May}}}{RA_{k,\\ \\mathrm{Sept}}}$$\n",
    "\n",
    "Here are the multipliers visually for the first 3 columns (age<18) for weekdays and weekends:\n",
    "![](./img/online_reference_estimation_1.png)\n",
    "\n",
    "**Contacts between 0-2 and 7 age groups are completely missing from $RR$, it cancels out every other values.**\n",
    "\n",
    "For both the estimation of $OR_{a}$ (adults) and $OR_{k}$ (kids), we have separate matrices for weekdays and weekends.\n",
    "Here are the estimated weekend-weekday matrices for the kids, then for the adults:\n",
    "\n",
    "![](./img/online_reference_estimation_2.png)\n",
    "\n",
    "**There are only 8 days in the dataset from which we estimate weekend kid contacts. It is clearly not enough,\n",
    "many of the cells don't contain any values!**\n",
    "![](./img/online_reference_estimation_3.png)\n",
    "\n",
    "\n",
    "We can observe that the second age group consists of both kids (15-17) and adults (18-25),\n",
    "so we have to mix that column according to the proportions within\n",
    "the age group ($N_{15-17} = 287712$, $N_{18-25}=1 371 985$, source https://www.ksh.hu/interaktiv/korfak/orszag.html).\n",
    "\n",
    "$$OR^{2nd\\ col} = \\frac{N_{15-17}}{N_{15-25}}\\cdot OR_{k}^{2nd\\ col} +\n",
    "\\left(1-\\frac{N_{15-17}}{N_{15-25}}\\right)\\cdot OR_{a}^{2nd\\ col}$$\n",
    "\n",
    "After having calculated / estimated, and put together the two matrix parts $OR_k$ and $OR_a$, we get the final $OR$ as:\n",
    "\n",
    "$$OR = \\frac{5\\cdot OR^{weekday} + 2\\cdot OR^{weekend}}{7}$$.\n",
    "\n",
    "![](./img/online_reference_estimation_4.png)\n",
    "\n",
    "The reference matrix $R$ is then the sum of $OR$, and the family \"background\" matrix $F$ for the same time period\n",
    "(`2020/04/14-2020/06/30`):\n",
    "\n",
    "$$R = OR + F.$$\n",
    "\n",
    "![](./img/online_reference_estimation_5.png)\n",
    "\n",
    "The resulting matrix file is located at `contact_matrix/reference_online.csv` in the repo.\n",
    "The then select a literature $R_0$ value corresponding to this contact matrix."
   ]
  },
  {
   "cell_type": "markdown",
   "metadata": {},
   "source": [
    "## Representative reference matrix"
   ]
  },
  {
   "cell_type": "markdown",
   "metadata": {},
   "source": [
    "In this version, we use the estimated reference contact numbers from the representative survey.\n",
    "The problem is that the representative survey gives consistently larger contact numbers than the online survey,\n",
    "thus, it might lead to an underestimation of $R_0$ because of the unrealistic drop in the average contact numbers with\n",
    "respect to the reference period.\n",
    "\n",
    "The matrix, the previous online reference matrix, and the difference between the two:\n",
    "\n",
    "![](./img/representative_reference_estimation_1.png)\n",
    "\n",
    "The representative reference matrix can be found at `contact_matrix/reference_representative.csv`.\n",
    "We then select a literature $R_0$ value corresponding to this contact matrix."
   ]
  },
  {
   "cell_type": "markdown",
   "metadata": {},
   "source": [
    "## Using a selected timeframe as the reference period"
   ]
  },
  {
   "cell_type": "markdown",
   "metadata": {},
   "source": [
    "Here, we try to pinpoint a selected timeframe, where we use the $OA+F$ (online actual + family) contact matrix\n",
    "as a reference matrix $TR$ (temporal reference), and the we get the corresponding $R_0$ calculated from the\n",
    "official infection data to calculate the transmission rate $\\beta$.\n",
    "\n",
    "The problem here are the initial values in the compartments of a model, e.g. latent infections.\n",
    "The assumption that the whole population is susceptible at this timepoint is not a good IC.\n",
    "\n",
    "We tried with selecting one week between `2020/08/30` and `2020/09/06`. The selection is done in the `Simulation` class,\n",
    "but I show this default selection compared to $OR$ and $RR$, the previous reference matrices, below.\n",
    "![](./img/temporal_reference_estimation_1.png)\n",
    "![](./img/temporal_reference_estimation_2.png)\n"
   ]
  },
  {
   "cell_type": "markdown",
   "metadata": {},
   "source": [
    "# Masking percentage"
   ]
  },
  {
   "cell_type": "markdown",
   "metadata": {},
   "source": [
    "The next figure shows the global masking percentage extracted from the online answers, created using\n",
    "the same weighting scheme as for the contact matrices."
   ]
  },
  {
   "cell_type": "code",
   "execution_count": null,
   "metadata": {},
   "outputs": [],
   "source": [
    "plt.rcParams[\"font.size\"] = 18\n",
    "plt.rcParams[\"figure.facecolor\"] = \"white\""
   ]
  },
  {
   "cell_type": "code",
   "execution_count": null,
   "metadata": {},
   "outputs": [],
   "source": [
    "df = pd.DataFrame(\n",
    "    json.load(open(\n",
    "        os.path.join(PROJECT_PATH, 'contact_matrix/dynmatrix_step_1d_window_7d_v15_kid_masked_all.json')))\n",
    ")"
   ]
  },
  {
   "cell_type": "code",
   "execution_count": null,
   "metadata": {},
   "outputs": [],
   "source": [
    "df.head()"
   ]
  },
  {
   "cell_type": "code",
   "execution_count": null,
   "metadata": {},
   "outputs": [],
   "source": [
    "plt.figure(figsize=(30, 10))\n",
    "plt.plot([datetime.fromtimestamp(t) for t in df.start_ts],\n",
    "         df.avg_masking * 100,\n",
    "         'k-', lw=3)\n",
    "plt.grid()\n",
    "plt.ylim(0, 100)\n",
    "plt.gca().yaxis.set_major_formatter(mtick.PercentFormatter())\n",
    "plt.ylabel(\"Percentage\")\n",
    "plt.xlabel(\"Date\")\n",
    "plt.title(\"Mask wearing percentage from online survey\", pad=20)\n",
    "plt.savefig(os.path.join(PROJECT_PATH, \"plots/masking_1.png\"), density=300, bbox_inches=\"tight\")"
   ]
  },
  {
   "cell_type": "markdown",
   "metadata": {},
   "source": [
    "This is broken down to age groups. For kids, we have no answers for mask percentage, for age group 7,\n",
    "the eldest, the data is very-very noisy."
   ]
  },
  {
   "cell_type": "code",
   "execution_count": null,
   "metadata": {},
   "outputs": [],
   "source": [
    "n = 7\n",
    "color = plt.cm.viridis(np.linspace(0, 1, n))[:-2][::-1]\n",
    "plt.rcParams['axes.prop_cycle'] = cycler.cycler('color', color)"
   ]
  },
  {
   "cell_type": "code",
   "execution_count": null,
   "metadata": {},
   "outputs": [],
   "source": [
    "plt.figure(figsize=(30, 10))\n",
    "for i in range(2, 7):\n",
    "    plt.plot([datetime.fromtimestamp(t)\n",
    "              for t in df.start_ts], df.avg_masking_grouped.map(lambda d: d[str(float(i))]) * 100,\n",
    "             label=\"age_group \" + str(float(i)), lw=3)\n",
    "plt.grid()\n",
    "plt.legend()\n",
    "plt.ylim(0, 100)\n",
    "plt.gca().yaxis.set_major_formatter(mtick.PercentFormatter())\n",
    "plt.ylabel(\"Percentage\")\n",
    "plt.xlabel(\"Date\")\n",
    "plt.title(\"Mask wearing percentage from online survey by age group\", pad=20)\n",
    "plt.savefig(os.path.join(PROJECT_PATH, \"plots/mask_2.png\"), density=300, bbox_inches=\"tight\")"
   ]
  },
  {
   "cell_type": "markdown",
   "metadata": {},
   "source": [
    "An artificially smoothed version with a 10-day sliding window average."
   ]
  },
  {
   "cell_type": "code",
   "execution_count": null,
   "metadata": {},
   "outputs": [],
   "source": [
    "plt.figure(figsize=(30, 10))\n",
    "\n",
    "N = 11\n",
    "\n",
    "for i in range(2,7):\n",
    "    plt.plot(\n",
    "        [datetime.fromtimestamp(t) for t in df.start_ts][5:][:-5],\n",
    "        np.convolve(df.avg_masking_grouped.map(lambda d: d[str(float(i))]) * 100, np.ones(N) / N, mode='valid'),\n",
    "        label=\"age_group \" + str(float(i)),\n",
    "        lw=3)\n",
    "plt.grid()\n",
    "plt.legend()\n",
    "plt.ylim(0, 100)\n",
    "plt.gca().yaxis.set_major_formatter(mtick.PercentFormatter())\n",
    "plt.ylabel(\"Percentage\")\n",
    "plt.xlabel(\"Date\")\n",
    "plt.title(\"Mask wearing percentage from online survey by age group (smoothed)\", pad=20)\n",
    "plt.savefig(os.path.join(PROJECT_PATH, \"plots/masking_2.png\"), density=300, bbox_inches=\"tight\")"
   ]
  },
  {
   "cell_type": "markdown",
   "metadata": {},
   "source": [
    "# Contact numbers"
   ]
  },
  {
   "cell_type": "code",
   "execution_count": null,
   "metadata": {},
   "outputs": [],
   "source": [
    "plt.rcParams[\"font.size\"]=30"
   ]
  },
  {
   "cell_type": "code",
   "execution_count": null,
   "metadata": {},
   "outputs": [],
   "source": [
    "import matplotlib.dates as mdates\n",
    "from matplotlib.dates import DateFormatter"
   ]
  },
  {
   "cell_type": "code",
   "execution_count": null,
   "metadata": {},
   "outputs": [],
   "source": [
    "df = pd.DataFrame(\n",
    "    json.load(\n",
    "        open(os.path.join(PROJECT_PATH, 'contact_matrix/dynmatrix_step_1d_window_7d_v15_kid_masked_all.json')))\n",
    ")\n",
    "mask = [datetime.fromtimestamp(t)<datetime(2021,1,1) for t in df.start_ts]\n",
    "\n",
    "\n",
    "fig, ax1 = plt.subplots(1,1,figsize=(30,10))\n",
    "ax2 = ax1.twinx()\n",
    "\n",
    "ax1.plot([datetime.fromtimestamp(t) for t in df[mask].start_ts],\n",
    "         df[mask].avg_actual_outside_proxy + df[mask].avg_family,\n",
    "         'k-', lw=3)\n",
    "ax1.grid()\n",
    "ax1.set_ylabel(\"Avg. number of contacts per day\",labelpad=30)\n",
    "\n",
    "\n",
    "sim_1 = Simulation(contact_data_json = 'dynmatrix_step_1d_window_7d_v15_kid_reduced_all.json')\n",
    "# data from the webpage of Ferenci Tamas\n",
    "mask = ([t<datetime(2021,1,1) for t in sim_1.data.reference_r_eff_data.datetime]) & \\\n",
    "       (sim_1.data.reference_r_eff_data[\"method\"]==\"Cori\")\n",
    "\n",
    "# casenum\n",
    "N = 3\n",
    "ax2.plot(sim_1.data.reference_r_eff_data[mask][\"datetime\"],\n",
    "         np.convolve(sim_1.data.reference_r_eff_data[mask][\"casenum\"],\n",
    "                     np.ones(2 * N + 1) / (2 * N + 1), mode='same'),\n",
    "         'r--', lw=4, label=\"number of pos. cases\")\n",
    "ax2.set_ylabel(\"Number of positive tests\",color=\"r\",labelpad=30)\n",
    "\n",
    "\n",
    "# Define the date format\n",
    "date_form = DateFormatter(\"%y %b\")\n",
    "ax2.xaxis.set_major_formatter(date_form)\n",
    "\n",
    "# plt.savefig(os.path.join(PROJECT_PATH, \"plots/contacnum_1.png\"), density=300, bbox_inches=\"tight\")"
   ]
  },
  {
   "cell_type": "code",
   "execution_count": null,
   "metadata": {},
   "outputs": [],
   "source": [
    "n = 10\n",
    "color = plt.cm.viridis(np.linspace(0, 1, n))[:-2][::-1]\n",
    "plt.rcParams['axes.prop_cycle'] = cycler.cycler('color', color)"
   ]
  },
  {
   "cell_type": "code",
   "execution_count": null,
   "metadata": {},
   "outputs": [],
   "source": [
    "plt.figure(figsize=(30, 10))\n",
    "\n",
    "N = 3\n",
    "\n",
    "for i in range(2,7):\n",
    "    plt.plot(\n",
    "        [datetime.fromtimestamp(t) for t in df.start_ts][N:][:-N],\n",
    "        np.convolve(df.avg_actual_outside_proxy_grouped.map(lambda d: d.get(str(float(i)), 0)),\n",
    "                    np.ones(2 * N + 1) / (2 * N + 1), mode='valid')+\\\n",
    "        np.convolve(df.avg_family_grouped.map(lambda d: d.get(str(float(i)), 0)),\n",
    "                    np.ones(2 * N + 1) / (2 * N + 1), mode='valid'),\n",
    "        label=\"age_group \" + str(float(i)),\n",
    "        lw=3)\n",
    "plt.grid()\n",
    "plt.legend()\n",
    "plt.ylabel(\"Outside + Family\")\n",
    "plt.xlabel(\"Date\")\n",
    "plt.ylim(0, 13)\n",
    "plt.title(\"Proxy+ family contacts from online survey by age group (smoothed)\", pad=20)\n",
    "plt.savefig(os.path.join(PROJECT_PATH, \"plots/contactnum_2.png\"),\n",
    "            density=300,\n",
    "            bbox_inches=\"tight\")"
   ]
  },
  {
   "cell_type": "markdown",
   "metadata": {},
   "source": [
    "# Results of simulations"
   ]
  },
  {
   "cell_type": "markdown",
   "metadata": {},
   "source": [
    "## Globally reduced large matrix element"
   ]
  },
  {
   "cell_type": "code",
   "execution_count": null,
   "metadata": {},
   "outputs": [],
   "source": [
    "plt.rcParams['axes.prop_cycle'] = def_cycler"
   ]
  },
  {
   "cell_type": "code",
   "execution_count": null,
   "metadata": {
    "pycharm": {
     "name": "#%%\n"
    }
   },
   "outputs": [],
   "source": [
    "sim_1 = Simulation(contact_data_json = 'dynmatrix_step_1d_window_7d_v15_kid_reduced_all.json')\n",
    "\n",
    "# Call simulate() method to get r_eff values for the contact matrices\n",
    "sim_1.simulate()"
   ]
  },
  {
   "cell_type": "code",
   "execution_count": null,
   "metadata": {
    "pycharm": {
     "name": "#%%\n"
    }
   },
   "outputs": [],
   "source": [
    "sim_2 = Simulation(contact_data_json = 'dynmatrix_step_1d_window_7d_v15_kid_reduced_all.json')\n",
    "\n",
    "# Call simulate() method to get r_eff values for the contact matrices\n",
    "sim_2.simulate()"
   ]
  },
  {
   "cell_type": "code",
   "execution_count": null,
   "metadata": {},
   "outputs": [],
   "source": [
    "sim_1.data._contact_data_json"
   ]
  },
  {
   "cell_type": "code",
   "execution_count": null,
   "metadata": {},
   "outputs": [],
   "source": [
    "sim_2.data._contact_data_json"
   ]
  },
  {
   "cell_type": "code",
   "execution_count": null,
   "metadata": {
    "pycharm": {
     "name": "#%%\n"
    }
   },
   "outputs": [],
   "source": [
    "# Calculate datetime from simulation point timestamps for plotting purposes\n",
    "t1 = [datetime.fromtimestamp(t) for t in sim_1.timestamps]\n",
    "t2 = [datetime.fromtimestamp(t) for t in sim_2.timestamps]"
   ]
  },
  {
   "cell_type": "code",
   "execution_count": null,
   "metadata": {},
   "outputs": [],
   "source": [
    "# data from the webpage of Ferenci Tamas\n",
    "df = sim_1.data.reference_r_eff_data"
   ]
  },
  {
   "cell_type": "code",
   "execution_count": null,
   "metadata": {},
   "outputs": [],
   "source": [
    "# source https://www.ksh.hu/docs/hun/xstadat/xstadat_evkozi/e_met001.html\n",
    "idojaras = pd.read_excel(os.path.join(PROJECT_PATH, \"data/weather.xls\"), header=[0, 1, 2], index_col=[0, 1])\n",
    "honapok = {'J':1, 'F':2, 'M':3, 'Á':4, 'Mj':5, 'Jú':6, 'Jl':7, 'Au':8, 'Sz':9, 'O':10, 'N':11, 'D':12, 'J–D':0}\n",
    "idojaras.index = idojaras.index.map(lambda t: str(int(t[0])) + '-' + str(honapok.get(t[1])).zfill(2))\n",
    "idojaras.columns = ['temp', 'temp_max', 'temp_min', 'prec_days', 'prec_mm', 'sunny_hours', 'windy_days']\n",
    "idojaras = idojaras[idojaras.index.map(lambda s: '00' not in s and ('2020' in s or '2021' in s))]\n",
    "idojaras[\"date\"] = idojaras.index.map(lambda s: datetime.strptime(s, '%Y-%m'))"
   ]
  },
  {
   "cell_type": "code",
   "execution_count": null,
   "metadata": {},
   "outputs": [],
   "source": [
    "%%writefile ../contact_matrix/repr_sum.csv\n",
    "03/20,28.182647274668152\n",
    "04/20,5.668536927079893\n",
    "05/20,6.15521176587219\n",
    "06/20,8.021268253924598\n",
    "08/20,7.008615225024456\n",
    "09/20,8.495211075908282\n",
    "10/20,9.246222571227818\n",
    "11/20,5.92951409139812\n",
    "12/20,7.243891928674314\n",
    "01/21,7.387639109608567\n",
    "02/21,6.208721879990596"
   ]
  },
  {
   "cell_type": "code",
   "execution_count": null,
   "metadata": {},
   "outputs": [],
   "source": [
    "!ls ../contact_matrix/repr_sum.csv"
   ]
  },
  {
   "cell_type": "code",
   "execution_count": null,
   "metadata": {},
   "outputs": [],
   "source": [
    "# representative contact numbers\n",
    "rdf = pd.read_csv(os.path.join(PROJECT_PATH, 'contact_matrix/repr_sum.csv'),sep=\",\",header=None)\n",
    "rdf[\"date\"] = rdf[0].map(lambda s: datetime(year=int('20'+s[-2:]),month=int(s[0:2]),day=1)+timedelta(days=30))\n",
    "rdf.drop(0,axis=1,inplace=True)\n",
    "rdf.set_index(\"date\",inplace=True)\n",
    "rdf = rdf.T\n",
    "rdf[\"pos\"] = (rdf.index-1)%8"
   ]
  },
  {
   "cell_type": "code",
   "execution_count": null,
   "metadata": {},
   "outputs": [],
   "source": [
    "rdf"
   ]
  },
  {
   "cell_type": "code",
   "execution_count": null,
   "metadata": {},
   "outputs": [],
   "source": [
    "plt.figure(figsize=(30,10))\n",
    "\n",
    "# simulated R-values\n",
    "plt.plot(t1, sim_1.r_eff_plot, label=\"new\", color=\"k\", lw=4)\n",
    "plt.plot(t2, sim_2.r_eff_plot, label=\"old\", color=\"lightgrey\", lw=4)\n",
    "\n",
    "# average contact numbers\n",
    "plt.plot(\n",
    "    [datetime.fromtimestamp(t) for t in sim_1.data.contact_num_data[\"start\"]], \n",
    "    sim_1.data.contact_num_data[\"outside\"] + sim_1.data.contact_num_data[\"family\"],\n",
    "    '--',\n",
    "    label=\"new contactnum\")\n",
    "\n",
    "plt.plot(\n",
    "    [datetime.fromtimestamp(t) for t in sim_2.data.contact_num_data[\"start\"]], \n",
    "    sim_2.data.contact_num_data[\"outside\"] + sim_2.data.contact_num_data[\"family\"],\n",
    "    '--',\n",
    "    label=\"old contactnum\")\n",
    "\n",
    "\n",
    "# representative contact numbers\n",
    "\n",
    "plt.step(rdf.groupby(\"pos\").sum().mean().index,rdf.groupby(\"pos\").sum().mean(),'--',\n",
    "         lw=3, c=\"darkblue\", label=\"representative contactnum\")\n",
    "\n",
    "# masks\n",
    "plt.fill_between(\n",
    "    [datetime.fromtimestamp(t) for t in sim_1.data.contact_num_data[\"start\"]], \n",
    "    sim_1.data.contact_num_data['mask_percentage'].map(float),\n",
    "    alpha=0.2,\n",
    "    label=\"mask percentage\")\n",
    "\n",
    "# reference R-values from Tamas Ferenci\n",
    "for m in [\"Cori\"]:\n",
    "    sdf = df[df[\"method\"] == m]\n",
    "    # positivity rate\n",
    "    plt.scatter(sdf[\"datetime\"],sdf[\"r_eff\"],\n",
    "                lw=2, c=sdf[\"pos\"], cmap=\"Oranges_r\",\n",
    "                vmin=0, vmax=20, label=\"Ferenci Tamas R_0\")\n",
    "    # errorbar\n",
    "#     plt.fill_between(sdf[\"datetime\"] - timedelta(days=0), sdf[\"ci_lower\"], sdf[\"ci_upper\"],\n",
    "#                      color='orange', alpha=0.2)\n",
    "    # casenum\n",
    "#     N = 3\n",
    "#     plt.plot(sdf[\"datetime\"],np.convolve(sdf[\"casenum\"] / 1000, np.ones(2 * N + 1) / (2 * N + 1), mode='same'),\n",
    "#              'r-', lw=4, alpha=0.3, label=\"Number of pos. cases\")\n",
    "    \n",
    "plt.colorbar(label=\"Test positivity %\")\n",
    "    \n",
    "# reference R_0 period\n",
    "d1,d2 =  sim_1.baseline_cm_date\n",
    "plt.fill_betweenx(\n",
    "    np.linspace(0, 6, 100),\n",
    "    datetime.strptime(d1,'%Y-%m-%d'), \n",
    "    datetime.strptime(d2,'%Y-%m-%d'),\n",
    "    color='r',\n",
    "    alpha=0.2,\n",
    "    label=\"reference period\")\n",
    "\n",
    "# \n",
    "\n",
    "# formatting\n",
    "plt.xlabel(\"Date\")\n",
    "plt.ylabel(\"R_eff\")\n",
    "plt.ylim(0,12)\n",
    "plt.grid()\n",
    "plt.legend(ncol=4)\n",
    "\n",
    "\n",
    "# # temperature\n",
    "# ax2 = plt.gca().twinx()\n",
    "# ax2.step(idojaras[\"date\"].tolist()[2:] + [idojaras[\"date\"].iloc[-1]],\n",
    "#          idojaras[\"temp\"].tolist()[2:] + [idojaras[\"temp\"].iloc[-1]],\n",
    "#          lw=2, c=\"purple\", label=\"temperature\")\n",
    "# ax2.set_ylabel(r\"Avg. temperature $(^\\circ C)$\")\n",
    "# ax2.legend()\n"
   ]
  },
  {
   "cell_type": "code",
   "execution_count": null,
   "metadata": {},
   "outputs": [],
   "source": [
    "plt.figure(figsize=(30,10))\n",
    "\n",
    "# simulated R-values\n",
    "plt.plot(t1, sim_1.r_eff_plot, color=\"lightgrey\")\n",
    "plt.plot(t2, sim_2.r_eff_plot, label=\"online R_0\", color=\"black\", lw=4)\n",
    "\n",
    "# average contact numbers\n",
    "plt.plot(\n",
    "    [datetime.fromtimestamp(t) for t in sim_1.data.contact_num_data[\"start\"]], \n",
    "    sim_1.data.contact_num_data[\"outside\"] + sim_1.data.contact_num_data[\"family\"],\n",
    "    '--',\n",
    "    label=\"online contactnum\")\n",
    "\n",
    "# masks\n",
    "plt.fill_between(\n",
    "    [datetime.fromtimestamp(t) for t in sim_1.data.contact_num_data[\"start\"]], \n",
    "    sim_1.data.contact_num_data['mask_percentage'].map(float),\n",
    "    alpha=0.2,\n",
    "    label=\"mask percentage\")\n",
    "\n",
    "# reference R-values from Tamas Ferenci\n",
    "for m in df[\"method\"].unique()[[1]]:\n",
    "    sdf = df[df[\"method\"] == m]\n",
    "    # positivity rate\n",
    "    plt.scatter(sdf[\"datetime\"] - timedelta(days=0), sdf[\"r0\"],\n",
    "                lw=2, c=sdf[\"pos\"], cmap=\"Oranges_r\",\n",
    "                vmin=0, vmax=20, label=\"Ferenci Tamas R_0\")\n",
    "    # errorbar\n",
    "    plt.fill_between(sdf[\"datetime\"] - timedelta(days=0), sdf[\"ci_lower\"], sdf[\"ci_upper\"],\n",
    "                     color='orange', alpha=0.2)\n",
    "    # casenum\n",
    "    N = 3\n",
    "    plt.plot(sdf[\"datetime\"],np.convolve(sdf[\"casenum\"] / 1000, np.ones(2 * N + 1) / (2 * N + 1), mode='same'),\n",
    "             'r-', lw=4, alpha=0.3, label=\"number of pos. cases\")\n",
    "    \n",
    "plt.colorbar(label=\"Test positivity %\")\n",
    "    \n",
    "# reference R_0 period\n",
    "d1,d2 =  sim_2.baseline_cm_date\n",
    "plt.fill_betweenx(\n",
    "    np.linspace(0, 6, 100),\n",
    "    datetime.strptime(d1,'%Y-%m-%d'), \n",
    "    datetime.strptime(d2,'%Y-%m-%d'),\n",
    "    color='r',\n",
    "    alpha=0.2,\n",
    "    label=\"reference period\"\n",
    ")\n",
    "\n",
    "# \n",
    "\n",
    "# formatting\n",
    "plt.xlabel(\"Date\")\n",
    "plt.ylabel(\"R_eff\")\n",
    "plt.ylim(0,8)\n",
    "plt.grid()\n",
    "plt.legend()\n",
    "\n",
    "\n",
    "# temperature\n",
    "ax2 = plt.gca().twinx()\n",
    "ax2.step(idojaras[\"date\"].tolist()[2:] + [idojaras[\"date\"].iloc[-1]],\n",
    "         idojaras[\"temp\"].tolist()[2:] + [idojaras[\"temp\"].iloc[-1]],\n",
    "         lw=2, c=\"purple\", label=\"temperature\")\n",
    "ax2.set_ylabel(r\"Avg. temperature $(^\\circ C)$\")\n",
    "ax2.legend()"
   ]
  },
  {
   "cell_type": "code",
   "execution_count": null,
   "metadata": {},
   "outputs": [],
   "source": [
    "!jupyter nbconvert figures.ipynb --no-input --no-prompt"
   ]
  }
 ],
 "metadata": {
  "kernelspec": {
   "display_name": "Python 3",
   "language": "python",
   "name": "python3"
  },
  "language_info": {
   "codemirror_mode": {
    "name": "ipython",
    "version": 3
   },
   "file_extension": ".py",
   "mimetype": "text/x-python",
   "name": "python",
   "nbconvert_exporter": "python",
   "pygments_lexer": "ipython3",
   "version": "3.8.10"
  }
 },
 "nbformat": 4,
 "nbformat_minor": 1
}